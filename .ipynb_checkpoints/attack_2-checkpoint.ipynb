{
 "cells": [
  {
   "cell_type": "code",
   "execution_count": 53,
   "id": "4831a904-c308-4e80-9b2b-4056a971893b",
   "metadata": {},
   "outputs": [],
   "source": [
    "import tensorflow as tf\n",
    "\n",
    "import matplotlib\n",
    "%matplotlib inline\n",
    "\n",
    "# import the necessary packages\n",
    "from sklearn.preprocessing import LabelEncoder\n",
    "from sklearn.model_selection import train_test_split\n",
    "from sklearn.metrics import classification_report\n",
    "from tensorflow.keras.preprocessing.image import ImageDataGenerator\n",
    "from tensorflow.keras.optimizers import Adam\n",
    "\n",
    "from imutils import paths\n",
    "import matplotlib.pyplot as plt\n",
    "import splitfolders\n",
    "import numpy as np\n",
    "import argparse\n",
    "import shutil\n",
    "import pickle\n",
    "import cv2\n",
    "import os"
   ]
  },
  {
   "cell_type": "code",
   "execution_count": 54,
   "id": "7ab463fd-3ab4-4d0e-a874-67f5a309eacf",
   "metadata": {},
   "outputs": [
    {
     "name": "stdout",
     "output_type": "stream",
     "text": [
      "Number of real Images : 2100\n",
      "Number of fake Images : 6300\n",
      "Total Images : 8400\n"
     ]
    }
   ],
   "source": [
    "print('Number of real Images : {}'.format(len(os.listdir('./dataset/real'))))\n",
    "print('Number of fake Images : {}'.format(len(os.listdir('./dataset/fake'))))\n",
    "print('Total Images : {}'.format(\n",
    "    len(os.listdir('./dataset/real')) + \n",
    "    len(os.listdir('./dataset/fake')) \n",
    "    )\n",
    ")"
   ]
  },
  {
   "cell_type": "code",
   "execution_count": 55,
   "id": "e681d529-9e42-42e2-ac88-952bc61f8646",
   "metadata": {},
   "outputs": [],
   "source": [
    "base_dir = './dataset'\n",
    "data_dir = './dataset/data'"
   ]
  },
  {
   "cell_type": "code",
   "execution_count": 56,
   "id": "b651bd13-9b95-46bf-85c5-d40694747dea",
   "metadata": {},
   "outputs": [],
   "source": [
    "train_dir = os.path.join(data_dir, 'train') ## Train Dataset\n",
    "validation_dir = os.path.join(data_dir, 'val') ## Validation Dataset"
   ]
  },
  {
   "cell_type": "code",
   "execution_count": 57,
   "id": "43977638-25a6-4382-ae31-51051565c466",
   "metadata": {},
   "outputs": [],
   "source": [
    "train_live_dir = os.path.join(train_dir, 'real')\n",
    "train_spoof_dir = os.path.join(train_dir, 'fake')\n",
    "\n",
    "validation_live_dir = os.path.join(validation_dir, 'real')\n",
    "validation_spoof_dir = os.path.join(validation_dir, 'fake')"
   ]
  },
  {
   "cell_type": "code",
   "execution_count": 58,
   "id": "064bbe33-bc25-41f8-8214-4af344edb023",
   "metadata": {},
   "outputs": [
    {
     "name": "stdout",
     "output_type": "stream",
     "text": [
      "Total Training Data is : 6720\n"
     ]
    }
   ],
   "source": [
    "total_size_train = (\n",
    "    len(os.listdir(train_live_dir)) + \n",
    "    len(os.listdir(train_spoof_dir))\n",
    ")\n",
    "print('Total Training Data is : {}'.format(total_size_train))"
   ]
  },
  {
   "cell_type": "code",
   "execution_count": 59,
   "id": "58c5e99f-6e04-4fb7-b616-003c0144b584",
   "metadata": {},
   "outputs": [
    {
     "name": "stdout",
     "output_type": "stream",
     "text": [
      "Total Testing Data is : 1680\n"
     ]
    }
   ],
   "source": [
    "total_size_test = (\n",
    "    len(os.listdir(validation_live_dir)) + \n",
    "    len(os.listdir(validation_spoof_dir))\n",
    ")\n",
    "print('Total Testing Data is : {}'.format(total_size_test))"
   ]
  },
  {
   "cell_type": "code",
   "execution_count": 64,
   "id": "10897b8e-9088-4766-bf4f-bf0cdfbaa972",
   "metadata": {},
   "outputs": [
    {
     "name": "stdout",
     "output_type": "stream",
     "text": [
      "Found 6720 images belonging to 2 classes.\n",
      "Found 1680 images belonging to 2 classes.\n"
     ]
    }
   ],
   "source": [
    "from tensorflow.keras.preprocessing.image import ImageDataGenerator\n",
    "\n",
    "train_datagen = ImageDataGenerator(\n",
    "    rescale = 1./255,\n",
    "    rotation_range = 20,\n",
    "    width_shift_range = 0.1,\n",
    "    height_shift_range = 0.2,\n",
    "    horizontal_flip = True,\n",
    "    shear_range = 0.2,\n",
    "    zoom_range = 0.2,\n",
    "    fill_mode = 'nearest'\n",
    ")\n",
    "\n",
    "validation_datagen = ImageDataGenerator(\n",
    "    rescale = 1./255,\n",
    ")\n",
    "\n",
    "train_generator = train_datagen.flow_from_directory(\n",
    "    train_dir,\n",
    "    target_size = (150, 150),\n",
    "    batch_size = 32,\n",
    "    class_mode = 'binary'\n",
    ")\n",
    "\n",
    "validation_generator = validation_datagen.flow_from_directory(\n",
    "    validation_dir,\n",
    "    target_size = (150, 150),\n",
    "    batch_size = 32,\n",
    "    class_mode = 'binary'\n",
    ")"
   ]
  },
  {
   "cell_type": "code",
   "execution_count": 65,
   "id": "1c5a0dba-ad40-488b-9830-653108e8f9c9",
   "metadata": {},
   "outputs": [
    {
     "data": {
      "text/plain": [
       "{'fake': 0, 'real': 1}"
      ]
     },
     "execution_count": 65,
     "metadata": {},
     "output_type": "execute_result"
    }
   ],
   "source": [
    "train_generator.class_indices"
   ]
  },
  {
   "cell_type": "code",
   "execution_count": 66,
   "id": "e6f79389-adc1-471f-8b4c-7ff6b7775107",
   "metadata": {},
   "outputs": [],
   "source": [
    "model = tf.keras.models.load_model('vgg19_msu.keras')"
   ]
  },
  {
   "cell_type": "code",
   "execution_count": 67,
   "id": "c50601da-686f-455a-a631-b4b87b1b342a",
   "metadata": {},
   "outputs": [
    {
     "name": "stdout",
     "output_type": "stream",
     "text": [
      "\u001b[1m53/53\u001b[0m \u001b[32m━━━━━━━━━━━━━━━━━━━━\u001b[0m\u001b[37m\u001b[0m \u001b[1m14s\u001b[0m 188ms/step - accuracy: 1.0000 - loss: 0.0022\n",
      "Evaluate compile_metrics: 100.00%\n"
     ]
    }
   ],
   "source": [
    "# Evaluate the network\n",
    "scores = model.evaluate(validation_generator)\n",
    "print(\"%s%s: %.2f%%\" % (\"Evaluate \", model.metrics_names[1], scores[1]*100))"
   ]
  },
  {
   "cell_type": "code",
   "execution_count": 48,
   "id": "99f62188-9499-4714-abb9-0672ddb3d2e0",
   "metadata": {},
   "outputs": [
    {
     "name": "stderr",
     "output_type": "stream",
     "text": [
      "/home/spacheco/miniconda3/lib/python3.12/site-packages/art/estimators/certification/__init__.py:29: UserWarning: PyTorch not found. Not importing DeepZ or Interval Bound Propagation functionality\n",
      "  warnings.warn(\"PyTorch not found. Not importing DeepZ or Interval Bound Propagation functionality\")\n"
     ]
    },
    {
     "ename": "NameError",
     "evalue": "name 'TensorFlowModel' is not defined",
     "output_type": "error",
     "traceback": [
      "\u001b[0;31m---------------------------------------------------------------------------\u001b[0m",
      "\u001b[0;31mNameError\u001b[0m                                 Traceback (most recent call last)",
      "Cell \u001b[0;32mIn[48], line 19\u001b[0m\n\u001b[1;32m     14\u001b[0m \u001b[38;5;66;03m# Step 1: Load the MNIST dataset\u001b[39;00m\n\u001b[1;32m     16\u001b[0m (x_train, y_train), (x_test, y_test), min_pixel_value, max_pixel_value \u001b[38;5;241m=\u001b[39m load_mnist()\n\u001b[0;32m---> 19\u001b[0m model \u001b[38;5;241m=\u001b[39m \u001b[43mTensorFlowModel\u001b[49m()\n\u001b[1;32m     20\u001b[0m loss_object \u001b[38;5;241m=\u001b[39m tf\u001b[38;5;241m.\u001b[39mkeras\u001b[38;5;241m.\u001b[39mlosses\u001b[38;5;241m.\u001b[39mCategoricalCrossentropy(from_logits\u001b[38;5;241m=\u001b[39m\u001b[38;5;28;01mTrue\u001b[39;00m)\n\u001b[1;32m     21\u001b[0m optimizer \u001b[38;5;241m=\u001b[39m tf\u001b[38;5;241m.\u001b[39mkeras\u001b[38;5;241m.\u001b[39moptimizers\u001b[38;5;241m.\u001b[39mAdam()\n",
      "\u001b[0;31mNameError\u001b[0m: name 'TensorFlowModel' is not defined"
     ]
    }
   ],
   "source": [
    "\"\"\"\n",
    "The script demonstrates a simple example of using ART with TensorFlow v2.x. The example train a small model on the MNIST\n",
    "dataset and creates adversarial examples using the Fast Gradient Sign Method. Here we use the ART classifier to train\n",
    "the model, it would also be possible to provide a pretrained model to the ART classifier.\n",
    "The parameters are chosen for reduced computational requirements of the script and not optimised for accuracy.\n",
    "\"\"\"\n",
    "\n",
    "import numpy as np\n",
    "\n",
    "from art.attacks.evasion import FastGradientMethod\n",
    "from art.estimators.classification import TensorFlowV2Classifier\n",
    "from art.utils import load_mnist\n",
    "\n",
    "# Step 1: Load the MNIST dataset\n",
    "\n",
    "(x_train, y_train), (x_test, y_test), min_pixel_value, max_pixel_value = load_mnist()\n",
    "\n",
    "\n",
    "model = TensorFlowModel()\n",
    "loss_object = tf.keras.losses.CategoricalCrossentropy(from_logits=True)\n",
    "optimizer = tf.keras.optimizers.Adam()\n",
    "\n",
    "# Step 3: Create the ART classifier\n",
    "\n",
    "classifier = TensorFlowV2Classifier(\n",
    "    model=model,\n",
    "    loss_object=loss_object,\n",
    "    optimizer=optimizer,\n",
    "    nb_classes=10,\n",
    "    input_shape=(150, 150, 1),\n",
    "    clip_values=(0, 1),\n",
    ")\n",
    "\n",
    "# Step 4: Train the ART classifier\n",
    "\n",
    "classifier.fit(x_train, y_train, batch_size=64, nb_epochs=3)\n",
    "\n",
    "# Step 5: Evaluate the ART classifier on benign test examples\n",
    "\n",
    "predictions = classifier.predict(x_test)\n",
    "accuracy = np.sum(np.argmax(predictions, axis=1) == np.argmax(y_test, axis=1)) / len(y_test)\n",
    "print(\"Accuracy on benign test examples: {}%\".format(accuracy * 100))\n",
    "\n",
    "# Step 6: Generate adversarial test examples\n",
    "attack = FastGradientMethod(estimator=classifier, eps=0.2)\n",
    "x_test_adv = attack.generate(x=x_test)\n",
    "\n",
    "# Step 7: Evaluate the ART classifier on adversarial test examples\n",
    "\n",
    "predictions = classifier.predict(x_test_adv)\n",
    "accuracy = np.sum(np.argmax(predictions, axis=1) == np.argmax(y_test, axis=1)) / len(y_test)\n",
    "print(\"Accuracy on adversarial test examples: {}%\".format(accuracy * 100))"
   ]
  },
  {
   "cell_type": "code",
   "execution_count": null,
   "id": "bb8716b3-3514-4de3-8a45-b229e7709e11",
   "metadata": {},
   "outputs": [],
   "source": []
  }
 ],
 "metadata": {
  "kernelspec": {
   "display_name": "Python 3 (ipykernel)",
   "language": "python",
   "name": "python3"
  },
  "language_info": {
   "codemirror_mode": {
    "name": "ipython",
    "version": 3
   },
   "file_extension": ".py",
   "mimetype": "text/x-python",
   "name": "python",
   "nbconvert_exporter": "python",
   "pygments_lexer": "ipython3",
   "version": "3.12.4"
  }
 },
 "nbformat": 4,
 "nbformat_minor": 5
}
